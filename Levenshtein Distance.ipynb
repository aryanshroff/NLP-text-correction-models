{
 "cells": [
  {
   "cell_type": "code",
   "execution_count": 1,
   "id": "0cd66cc6",
   "metadata": {
    "ExecuteTime": {
     "end_time": "2023-12-04T15:43:40.928813Z",
     "start_time": "2023-12-04T15:43:40.896587Z"
    }
   },
   "outputs": [],
   "source": [
    "sample_text=\"Ths is a wrng sntence wit errors n speeling nd grammattical mistkes. It has incorect punctuations, misosing lettrs, and wrong word orders. The gramar nd speling ar all over the place. The sentneces do not make sense, nd the words ar jmbled up. Thre ar run-on senteces, and many wrds ar misspelled. Its a cmplete cahos nd hard to understnd. The wrng sntence is full of typos, and it makes it difcult to rd. Theres no propur gramar, nd the punctuation is al wrng too? It is a mess of wrds nd its difficult to undorstand the meaning! The wrng sntence is a gret eximple of how not to write. Its ful of errors, and it mokes it herd to read. The wrng sntence is a dister in the land of languoge. It is a hot messi of wrds and its hard to make any sense of it. The gramar is all over the place, nd the spelling is wrong. It is a disastur of a sntence and it is difficult to comprehend. The wrong sentence is a complete garble of letters. It is hard to read, and it is full of mistakes. The word order is all out of place, and the punctuation is incorrect. Theres no coherence or structure in the wrng sntence. Its a jumbled mess of incohrnt wrds and it is confusng to read. The wrong sentence is a nightmare for any reader. It is a cacophony of errors and it is hard to decphr. The wrng sntence is a total disaster, and it is impossible to understand. The gramar is terrible, nd the spelling is all over the place. Its a jumble of letters and it is incomprehensible. The wrong sentence is a train wreck of wrds, and it is a pain to rd. It is ful of errors, and it is a complete mess. The wrng sntence is a chaos of typos and it is difficult to follow.\"\n",
    "corrected_text=\"This is a wrong sentence with errors in spelling and grammatical mistakes. It has incorrect punctuations, missing letters, and wrong word orders. The grammar and spelling are all over the place. The sentences do not make sense, and the words are jumbled up. There are run-on sentences, and many words are misspelled. It's a complete chaos and hard to understand. The wrong sentence is full of typos, and it makes it difficult to read. There's no proper grammar, and the punctuation is all wrong too. It is a mess of words and it's difficult to understand the meaning. The wrong sentence is a great example of how not to write. It's full of errors, and it makes it hard to read. The wrong sentence is a disaster in the land of language. It is a hot mess of words and it's hard to make any sense of it. The grammar is all over the place, and the spelling is wrong. It is a disaster of a sentence and it is difficult to comprehend. The wrong sentence is a complete garble of letters. It is hard to read, and it is full of mistakes. The word order is all out of place, and the punctuation is incorrect. There's no coherence or structure in the wrong sentence. It's a jumbled mess of incoherent words and it is confusing to read. The wrong sentence is a nightmare for any reader. It is a cacophony of errors and it is hard to decipher. The wrong sentence is a total disaster, and it is impossible to understand. The grammar is terrible, and the spelling is all over the place. It's a jumble of letters and it is incomprehensible. The wrong sentence is a train wreck of words, and it is a pain to read. It is full of errors, and it is a complete mess. The wrong sentence is a chaos of typos and it is difficult to follow.\"\n"
   ]
  },
  {
   "cell_type": "code",
   "execution_count": 2,
   "id": "8c0c9ad2",
   "metadata": {
    "ExecuteTime": {
     "end_time": "2023-12-04T15:43:59.144254Z",
     "start_time": "2023-12-04T15:43:51.299523Z"
    }
   },
   "outputs": [],
   "source": [
    "import Levenshtein\n",
    "import nltk\n",
    "from sklearn.metrics import accuracy_score, precision_score, recall_score, classification_report\n",
    "import random"
   ]
  },
  {
   "cell_type": "code",
   "execution_count": 6,
   "id": "3b74b8b0",
   "metadata": {
    "ExecuteTime": {
     "end_time": "2023-12-04T15:45:26.520516Z",
     "start_time": "2023-12-04T15:45:26.481206Z"
    }
   },
   "outputs": [],
   "source": [
    "def precompute(corrected_text):\n",
    "    corrected_text=corrected_text.replace(\"'\", \"\")\n",
    "\n",
    "    sample_list = nltk.word_tokenize(sample_text)\n",
    "    corrected_list = nltk.word_tokenize(corrected_text)\n",
    "\n",
    "    mismatched = [index for index, (s, c) in enumerate(zip(sample_list, corrected_list)) if s != c]\n",
    "    corrected_qty = len(corrected_list)\n",
    "    mismatched_qty = len(mismatched)\n",
    "    #print(corrected_qty)\n",
    "    #print(mismatched_qty)\n",
    "    # print(\"Mismatched indices:\", mismatched)\n",
    "\n",
    "precompute(corrected_text)\n",
    "\n",
    "wer_dict={}\n",
    "cer_dict={}\n"
   ]
  },
  {
   "cell_type": "code",
   "execution_count": 4,
   "id": "f58a169c",
   "metadata": {
    "ExecuteTime": {
     "end_time": "2023-12-04T15:44:33.980141Z",
     "start_time": "2023-12-04T15:44:33.964750Z"
    }
   },
   "outputs": [],
   "source": [
    "def levenshtein_correction(input_text):\n",
    "    suggestions = []\n",
    "    for word in nltk.word_tokenize(input_text):\n",
    "        # Find the word in the corrected text with minimum Levenshtein distance\n",
    "        suggestions.append(min(nltk.word_tokenize(corrected_text), key=lambda x: Levenshtein.distance(word, x)))\n",
    "    return ' '.join(suggestions)\n",
    "\n",
    "# Context-Free Grammar-based method (simple example)\n",
    "def grammar_correction(input_text):\n",
    "    # Implement your grammar-based correction logic here\n",
    "    # For simplicity, let's assume we correct \"is\" to \"are\"\n",
    "    return input_text.replace(\"is\", \"are\")\n"
   ]
  },
  {
   "cell_type": "code",
   "execution_count": 5,
   "id": "a9fbcaec",
   "metadata": {
    "ExecuteTime": {
     "end_time": "2023-12-04T15:45:07.747740Z",
     "start_time": "2023-12-04T15:45:04.623342Z"
    }
   },
   "outputs": [
    {
     "name": "stdout",
     "output_type": "stream",
     "text": [
      "Levenshtein Result\n",
      "Word Error Rate (WER): 12.83%\n",
      "Character Error Rate (CER): 2.87%\n"
     ]
    }
   ],
   "source": [
    "def evaluation(sample_text, corrected_text, result_text):\n",
    "    true_labels = nltk.word_tokenize(corrected_text)\n",
    "    result_predicted = nltk.word_tokenize(result_text)\n",
    "    wer = Levenshtein.distance(' '.join(true_labels), ' '.join(result_predicted)) / len(true_labels)\n",
    "    cer = Levenshtein.distance(''.join(true_labels), ''.join(result_predicted)) / len(''.join(true_labels))\n",
    "    print(f\"Word Error Rate (WER): {wer:.2%}\")\n",
    "    print(f\"Character Error Rate (CER): {cer:.2%}\")\n",
    "    return wer,cer\n",
    "\n",
    "\n",
    "\n",
    "# Evaluate the correction result\n",
    "print(\"Levenshtein Result\")\n",
    "result_text = levenshtein_correction(sample_text)\n",
    "wer,cer=evaluation(sample_text, corrected_text, result_text)\n",
    "wer_dict[\"Levenshtein\"]=wer\n",
    "cer_dict[\"Levenshtein\"]=cer"
   ]
  },
  {
   "cell_type": "code",
   "execution_count": null,
   "id": "2a58e362",
   "metadata": {},
   "outputs": [],
   "source": []
  }
 ],
 "metadata": {
  "kernelspec": {
   "display_name": "Python 3 (ipykernel)",
   "language": "python",
   "name": "python3"
  },
  "language_info": {
   "codemirror_mode": {
    "name": "ipython",
    "version": 3
   },
   "file_extension": ".py",
   "mimetype": "text/x-python",
   "name": "python",
   "nbconvert_exporter": "python",
   "pygments_lexer": "ipython3",
   "version": "3.9.7"
  },
  "toc": {
   "base_numbering": 1,
   "nav_menu": {},
   "number_sections": true,
   "sideBar": true,
   "skip_h1_title": false,
   "title_cell": "Table of Contents",
   "title_sidebar": "Contents",
   "toc_cell": false,
   "toc_position": {},
   "toc_section_display": true,
   "toc_window_display": false
  }
 },
 "nbformat": 4,
 "nbformat_minor": 5
}
